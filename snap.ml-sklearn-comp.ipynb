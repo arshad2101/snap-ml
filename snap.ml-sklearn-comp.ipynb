{
 "cells": [
  {
   "cell_type": "code",
   "execution_count": 4,
   "metadata": {},
   "outputs": [
    {
     "name": "stdout",
     "output_type": "stream",
     "text": [
      "Data load time (s): 34.26\n",
      "[Warning] Parameter num_threads: parameter ignored. Trainning will run in single-threaded mode on CPU.\n",
      "[Warning] Parameter device_ids will be ignored. use_gpu was set to False. The training will run on the CPU.\n",
      "[snap.ml] Training time (s):  5726.35\n",
      "[snap.ml] Logarithmic loss:   0.4558\n",
      "[sklearn] Training time (s):  771.90\n",
      "[sklearn] Logarithmic loss:   0.4558\n"
     ]
    },
    {
     "data": {
      "text/plain": [
       "<function matplotlib.pyplot.show(*args, **kw)>"
      ]
     },
     "execution_count": 4,
     "metadata": {},
     "output_type": "execute_result"
    },
    {
     "data": {
      "image/png": "[encoded data removed]",
      "text/plain": [
       "<Figure size 432x288 with 1 Axes>"
      ]
     },
     "metadata": {},
     "output_type": "display_data"
    }
   ],
   "source": [
    "# Load the data\n",
    "import numpy as np\n",
    "from scipy.sparse import load_npz\n",
    "import time\n",
    "import sys\n",
    "import argparse\n",
    "import matplotlib.pyplot as plt\n",
    "%matplotlib inline\n",
    "\n",
    "defaultPath = \".\"\n",
    "\n",
    "\n",
    "t0 = time.time()\n",
    "\n",
    "X_train = load_npz(defaultPath + \"/data/criteo.kaggle2014.X_train.npz\")\n",
    "X_test  = load_npz(defaultPath + \"/data/criteo.kaggle2014.X_test.npz\")\n",
    "y_train = np.load(defaultPath + \"/data/criteo.kaggle2014.y_train.npy\")\n",
    "y_test  = np.load(defaultPath + \"/data/criteo.kaggle2014.y_test.npy\")\n",
    "print(\"Data load time (s): {0:.2f}\".format(time.time()-t0))\n",
    "\n",
    "\n",
    "# Import the LogisticRegression from snap.ml\n",
    "from snap_ml import LogisticRegression\n",
    "lr = LogisticRegression(use_gpu=False, device_ids=[0], max_iter=150)\n",
    "\n",
    "# Training\n",
    "t0 = time.time()\n",
    "lr.fit(X_train, y_train)\n",
    "snapml_tt = (time.time()-t0)\n",
    "print(\"[snap.ml] Training time (s):  {0:.2f}\".format(snapml_tt))\n",
    "# Inference\n",
    "proba_test = lr.predict_proba(X_test)\n",
    "\n",
    "# Evaluate log-loss on test set\n",
    "from sklearn.metrics import log_loss\n",
    "logloss_snap = log_loss(y_test, proba_test)\n",
    "print(\"[snap.ml] Logarithmic loss:   {0:.4f}\".format(logloss_snap))\n",
    "\n",
    "# Import the LogisticRegression from sklearn\n",
    "from sklearn.linear_model import LogisticRegression\n",
    "lr = LogisticRegression(dual=True)\n",
    "\n",
    "# Training time\n",
    "t0 = time.time()\n",
    "lr.fit(X_train, y_train)\n",
    "sklearn_tt = (time.time()-t0)\n",
    "print(\"[sklearn] Training time (s):  {0:.2f}\".format(sklearn_tt))\n",
    "# Inference\n",
    "proba_test = lr.predict_proba(X_test)\n",
    "\n",
    "# Evaluate log-loss on test set\n",
    "logloss_sklearn = log_loss(y_test, proba_test)\n",
    "print(\"[sklearn] Logarithmic loss:   {0:.4f}\".format(logloss_sklearn))\n",
    "\n",
    "x = np.arange(2)\n",
    "plt.bar(x, height= [snapml_tt,sklearn_tt])\n",
    "plt.xticks(x, ['snap_ml','sklearn']);\n",
    "plt.show\n"
   ]
  },
  {
   "cell_type": "code",
   "execution_count": 2,
   "metadata": {},
   "outputs": [
    {
     "name": "stdout",
     "output_type": "stream",
     "text": [
      "Data load time (s):  1.54\n",
      "[Warning] Parameter num_threads: parameter ignored. Trainning will run in single-threaded mode on CPU.\n",
      "[Warning] Parameter device_ids will be ignored. The use_gpu was set to False, thus the training will run on the CPU.\n",
      "[snap.ml] Training time (s):  441.95\n",
      "[snap.ml] Accuracy: 0.898\n",
      "[snap.ml] Hinge-loss: 0.273\n",
      "[sklearn] Training time (s):  30.66\n",
      "[sklearn] Accuracy:   0.898\n",
      "[sklearn] Hinge loss:   0.273\n"
     ]
    },
    {
     "data": {
      "text/plain": [
       "<function matplotlib.pyplot.show(*args, **kw)>"
      ]
     },
     "execution_count": 2,
     "metadata": {},
     "output_type": "execute_result"
    },
    {
     "data": {
      "image/png": "[encoded data removed]",
      "text/plain": [
       "<Figure size 432x288 with 1 Axes>"
      ]
     },
     "metadata": {},
     "output_type": "display_data"
    }
   ],
   "source": [
    "import time\n",
    "import numpy as np\n",
    "import sys\n",
    "import argparse\n",
    "import matplotlib.pyplot as plt\n",
    "%matplotlib inline\n",
    "\n",
    "defaultPath = \".\"\n",
    "\n",
    "\n",
    "t0 = time.time()\n",
    "\n",
    "# Load data\n",
    "X_train = np.load(defaultPath + \"/data/epsilon.X_train.npy\")\n",
    "X_test  = np.load(defaultPath + \"/data/epsilon.X_test.npy\")\n",
    "y_train = np.load(defaultPath + \"/data/epsilon.y_train.npy\")\n",
    "y_test  = np.load(defaultPath + \"/data/epsilon.y_test.npy\")\n",
    "print(\"Data load time (s):  {0:.2f}\".format(time.time()-t0))\n",
    "\n",
    "# Create a LogisticRegression from snap-ml\n",
    "from snap_ml import SupportVectorMachine\n",
    "svm = SupportVectorMachine(use_gpu=False, max_iter=200, num_threads=128, device_ids=[0], regularizer=2)\n",
    "\n",
    "# Training\n",
    "t0 = time.time()\n",
    "svm.fit(X_train, y_train)\n",
    "snapml_tt = (time.time()-t0)\n",
    "print(\"[snap.ml] Training time (s):  {0:.2f}\".format(snapml_tt))\n",
    "\n",
    "# Inference\n",
    "pred = svm.predict(X_test)\n",
    "\n",
    "# Evaluate accuracy on test set\n",
    "from sklearn.metrics import accuracy_score\n",
    "acc_snap = accuracy_score(y_test, pred)\n",
    "print(\"[snap.ml] Accuracy: {0:.3f}\".format(acc_snap))\n",
    "\n",
    "# Inference\n",
    "pred = svm.decision_function(X_test)\n",
    "\n",
    "# Evaluate accuracy on test set\n",
    "from sklearn.metrics import hinge_loss\n",
    "loss_snap = hinge_loss(y_test, pred)\n",
    "print(\"[snap.ml] Hinge-loss: {0:.3f}\".format(loss_snap))\n",
    "\n",
    "# Create a LogisticRegression (dual is faster for this application)\n",
    "from sklearn.svm import LinearSVC\n",
    "svm = LinearSVC(fit_intercept=False, dual=True, loss=\"hinge\", C=0.5)\n",
    "\n",
    "# Training time\n",
    "t0 = time.time()\n",
    "svm.fit(X_train, y_train)\n",
    "\n",
    "sklearn_tt = (time.time()-t0)\n",
    "print(\"[sklearn] Training time (s):  {0:.2f}\".format(sklearn_tt))\n",
    "\n",
    "# Inference\n",
    "pred = svm.predict(X_test)\n",
    "\n",
    "# Evaluate accuracy on test set\n",
    "acc_sklearn       = accuracy_score(y_test, pred)\n",
    "print(\"[sklearn] Accuracy:   {0:.3f}\".format(acc_sklearn))\n",
    "\n",
    "# Inference\n",
    "pred = svm.decision_function(X_test)\n",
    "\n",
    "# Evaluate accuracy on test set\n",
    "loss_sklearn = hinge_loss(y_test, pred)\n",
    "print(\"[sklearn] Hinge loss:   {0:.3f}\".format(loss_sklearn))\n",
    "\n",
    "x = np.arange(2)\n",
    "plt.bar(x, height= [snapml_tt,sklearn_tt])\n",
    "plt.xticks(x, ['snap_ml','sklearn']);\n",
    "plt.show"
   ]
  },
  {
   "cell_type": "code",
   "execution_count": 1,
   "metadata": {},
   "outputs": [
    {
     "name": "stdout",
     "output_type": "stream",
     "text": [
      "Data load time (s):  0.62\n",
      "[Warning] Parameter num_threads: parameter ignored. Trainning will run in single-threaded mode on CPU.\n",
      "[Warning] Parameter device_ids will be ignored. use_gpu was set to False. The training will run on the CPU.\n",
      "[snap.ml] Training time (s):  63.07\n",
      "[snap.ml] Logarithmic loss:   0.6374\n",
      "[sklearn] Training time (s):  78.40\n",
      "[sklearn] Logarithmic loss:   0.6374\n"
     ]
    },
    {
     "data": {
      "text/plain": [
       "<function matplotlib.pyplot.show(*args, **kw)>"
      ]
     },
     "execution_count": 1,
     "metadata": {},
     "output_type": "execute_result"
    },
    {
     "data": {
      "image/png": "[encoded data removed]",
      "text/plain": [
       "<Figure size 432x288 with 1 Axes>"
      ]
     },
     "metadata": {},
     "output_type": "display_data"
    }
   ],
   "source": [
    "from scipy import sparse\n",
    "import matplotlib.pyplot as plt\n",
    "%matplotlib inline\n",
    "# Load the data\n",
    "import time\n",
    "import numpy as np\n",
    "import argparse\n",
    "# Import the LogisticRegression from snap.ml\n",
    "from snap_ml import LogisticRegression\n",
    "defaultPath = \".\"\n",
    "x = np.arange(2)\n",
    "\n",
    "t0 = time.time()\n",
    "X_train = np.load(defaultPath + \"/data/HIGGS.X_train.npy\")\n",
    "X_test  = np.load(defaultPath + \"/data/HIGGS.X_test.npy\")\n",
    "y_train = np.load(defaultPath + \"/data/HIGGS.y_train.npy\")\n",
    "y_test  = np.load(defaultPath + \"/data/HIGGS.y_test.npy\")\n",
    "print(\"Data load time (s):  {0:.2f}\".format(time.time()-t0))\n",
    "\n",
    "\n",
    "lr = LogisticRegression(use_gpu=False,max_iter=15, dual=True, num_threads=32,device_ids=[0])\n",
    "\n",
    "# Training\n",
    "t0 = time.time()\n",
    "lr.fit(X_train, y_train)\n",
    "snapml_tt = (time.time()-t0)\n",
    "print(\"[snap.ml] Training time (s):  {0:.2f}\".format(snapml_tt))\n",
    "\n",
    "# Inference\n",
    "proba_test = lr.predict_proba(X_test)\n",
    "\n",
    "# Evaluate log-loss on test set\n",
    "from sklearn.metrics import log_loss\n",
    "logloss_snap = log_loss(y_test, proba_test)\n",
    "print(\"[snap.ml] Logarithmic loss:   {0:.4f}\".format(logloss_snap))\n",
    "\n",
    "# Import the LogisticRegression from sklearn\n",
    "from sklearn.linear_model import LogisticRegression\n",
    "lr = LogisticRegression(fit_intercept=False, dual=True)\n",
    "\n",
    "# Training time\n",
    "t0 = time.time()\n",
    "lr.fit(X_train, y_train)\n",
    "sklearn_tt = (time.time()-t0)\n",
    "print(\"[sklearn] Training time (s):  {0:.2f}\".format(sklearn_tt))\n",
    "\n",
    "# Inference\n",
    "proba_test = lr.predict_proba(X_test)\n",
    "\n",
    "# Evaluate log-loss on test set\n",
    "logloss_sklearn = log_loss(y_test, proba_test)\n",
    "print(\"[sklearn] Logarithmic loss:   {0:.4f}\".format(logloss_sklearn))\n",
    "\n",
    "\n",
    "\n",
    "x = np.arange(2)\n",
    "plt.bar(x, height= [snapml_tt,sklearn_tt])\n",
    "plt.xticks(x, ['snap_ml','sklearn']);\n",
    "plt.show"
   ]
  },
  {
   "cell_type": "code",
   "execution_count": null,
   "metadata": {},
   "outputs": [],
   "source": []
  }
 ],
 "metadata": {
  "kernelspec": {
   "display_name": "Python 3",
   "language": "python",
   "name": "python3"
  },
  "language_info": {
   "codemirror_mode": {
    "name": "ipython",
    "version": 3
   },
   "file_extension": ".py",
   "mimetype": "text/x-python",
   "name": "python",
   "nbconvert_exporter": "python",
   "pygments_lexer": "ipython3",
   "version": "3.6.5"
  }
 },
 "nbformat": 4,
 "nbformat_minor": 2
}
